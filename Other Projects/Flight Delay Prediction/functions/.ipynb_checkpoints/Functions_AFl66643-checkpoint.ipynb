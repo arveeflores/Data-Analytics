{
 "cells": [
  {
   "cell_type": "markdown",
   "id": "d185ec05",
   "metadata": {},
   "source": [
    "#### Month to Season Function"
   ]
  },
  {
   "cell_type": "code",
   "execution_count": 7,
   "id": "b2dc68af",
   "metadata": {},
   "outputs": [],
   "source": [
    "def categorize_season(month):\n",
    "    if month in [12, 1, 2]:\n",
    "        return 'Winter'\n",
    "    elif month in [3, 4, 5]:\n",
    "        return 'Spring'\n",
    "    elif month in [6, 7, 8]:\n",
    "        return 'Summer'\n",
    "    elif month in [9, 10, 11]:\n",
    "        return 'Fall'\n",
    "    else:\n",
    "        return 'Invalid Month'"
   ]
  },
  {
   "cell_type": "markdown",
   "id": "01651563",
   "metadata": {},
   "source": [
    "##### Data Preparation for Regression (for out-of-sample prediction)"
   ]
  },
  {
   "cell_type": "code",
   "execution_count": 5,
   "id": "799b296c",
   "metadata": {},
   "outputs": [],
   "source": [
    "def data_prep_reg(df):\n",
    "    df = df.dropna()\n",
    "    df = df.drop(columns=[\"year\",\"carrier_name\",\"airport_name\",\"carrier_delay\",\"weather_delay\",\"nas_delay\",\"security_delay\",\"late_aircraft_delay\"])\n",
    "    df['season'] = df['month'].apply(categorize_season)\n",
    "    df.drop(columns=[\"month\"], inplace=True)\n",
    "    df[\"sqrt_arr_delay\"] = np.sqrt(df.arr_delay)\n",
    "    to_drop = df[df['sqrt_arr_delay'] > 100].index\n",
    "    df.drop(to_drop, inplace=True)\n",
    "    df.drop('arr_delay', axis=1, inplace=True)\n",
    "    season_dummy = pd.get_dummies(df.season, drop_first=True)\n",
    "    df = pd.concat([df, season_dummy], axis=1)\n",
    "    df.drop(columns=\"season\", axis=1, inplace=True)\n",
    "    return df"
   ]
  },
  {
   "cell_type": "markdown",
   "id": "c33e1de5",
   "metadata": {},
   "source": [
    "###### Data Preparation for Classification  (for out-of-sample prediction)"
   ]
  },
  {
   "cell_type": "code",
   "execution_count": 6,
   "id": "ad898e62",
   "metadata": {},
   "outputs": [],
   "source": [
    "def data_prep_clf(df):\n",
    "    df = df.drop(columns=[\"carrier\",\"airport\",\"year\",\"carrier_name\",\"airport_name\",\"carrier_delay\",\"weather_delay\",\"nas_delay\",\"security_delay\",\"late_aircraft_delay\"])\n",
    "    df = df.dropna()\n",
    "    df['season'] = df['month'].apply(categorize_season)\n",
    "    df.drop(columns=[\"month\"], inplace=True)\n",
    "    season_dummy = pd.get_dummies(df.season, drop_first=True)\n",
    "    df = pd.concat([df, season_dummy], axis=1)\n",
    "    df.drop(columns=\"season\", axis=1, inplace=True)\n",
    "    df['delayed'] = df.arr_delay.apply(lambda x:1 if x>100 else 0)\n",
    "    to_drop = df[df['arr_delay'] > 300].index\n",
    "    df.drop(to_drop, inplace=True)\n",
    "    df.drop(columns=[\"arr_delay\"], inplace=True)\n",
    "    return df"
   ]
  },
  {
   "cell_type": "code",
   "execution_count": null,
   "id": "5aae0718",
   "metadata": {},
   "outputs": [],
   "source": []
  }
 ],
 "metadata": {
  "kernelspec": {
   "display_name": "Python 3 (ipykernel)",
   "language": "python",
   "name": "python3"
  },
  "language_info": {
   "codemirror_mode": {
    "name": "ipython",
    "version": 3
   },
   "file_extension": ".py",
   "mimetype": "text/x-python",
   "name": "python",
   "nbconvert_exporter": "python",
   "pygments_lexer": "ipython3",
   "version": "3.10.6"
  }
 },
 "nbformat": 4,
 "nbformat_minor": 5
}
