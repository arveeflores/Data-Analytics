{
 "cells": [
  {
   "cell_type": "code",
   "execution_count": null,
   "metadata": {},
   "outputs": [
    {
     "name": "stdout",
     "output_type": "stream",
     "text": [
      "tracks           [{'artist': 'Mayday Parade', 'album': 'Mayday ...\n",
      "albums           [{'artist': 'Panic! At The Disco', 'album': 'K...\n",
      "shows            [{'name': 'Ang Walang Kwentang Podcast', 'publ...\n",
      "episodes         [{'name': 'Ep 85 - The Law of Action', 'show':...\n",
      "bannedTracks     [{'artist': 'Lo ki', 'album': 'Kagome', 'track...\n",
      "artists          [{'name': '*NSYNC', 'uri': 'spotify:artist:6Ff...\n",
      "bannedArtists                                                   []\n",
      "other                                                           []\n",
      "dtype: object\n"
     ]
    }
   ],
   "source": [
    "\n",
    "\n",
    "import pandas as pd\n",
    "\n",
    "df = pd.read_json('spotify_data/YourLibrary.json', typ=dict)\n",
    "#df1 = pd.read_json('Follow.json', typ=dict)\n",
    "\n",
    "print(df)\n"
   ]
  },
  {
   "cell_type": "code",
   "execution_count": null,
   "metadata": {},
   "outputs": [],
   "source": [
    "print(df[0])"
   ]
  }
 ],
 "metadata": {
  "kernelspec": {
   "display_name": "Python 3",
   "language": "python",
   "name": "python3"
  },
  "language_info": {
   "codemirror_mode": {
    "name": "ipython",
    "version": 3
   },
   "file_extension": ".py",
   "mimetype": "text/x-python",
   "name": "python",
   "nbconvert_exporter": "python",
   "pygments_lexer": "ipython3",
   "version": "3.10.6"
  },
  "orig_nbformat": 4,
  "vscode": {
   "interpreter": {
    "hash": "aee8b7b246df8f9039afb4144a1f6fd8d2ca17a180786b69acc140d282b71a49"
   }
  }
 },
 "nbformat": 4,
 "nbformat_minor": 2
}
